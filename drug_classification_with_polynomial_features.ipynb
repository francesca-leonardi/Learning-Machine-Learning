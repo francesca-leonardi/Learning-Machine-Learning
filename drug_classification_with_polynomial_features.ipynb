{
  "cells": [
    {
      "cell_type": "markdown",
      "metadata": {
        "id": "view-in-github",
        "colab_type": "text"
      },
      "source": [
        "<a href=\"https://colab.research.google.com/github/francesca-leonardi/Learning-Machine-Learning/blob/main/drug_classification_with_polynomial_features.ipynb\" target=\"_parent\"><img src=\"https://colab.research.google.com/assets/colab-badge.svg\" alt=\"Open In Colab\"/></a>"
      ]
    },
    {
      "cell_type": "code",
      "execution_count": 79,
      "metadata": {
        "id": "mn5JsLVt_tS7"
      },
      "outputs": [],
      "source": [
        "### Simple logistic regression ###\n",
        "\n",
        "import numpy as np\n",
        "import pandas as pd\n",
        "from sklearn.linear_model import LogisticRegression\n",
        "from sklearn.metrics import accuracy_score, precision_score, recall_score, confusion_matrix\n",
        "from sklearn.model_selection import train_test_split\n",
        "from scipy.sparse import csr_matrix\n",
        "\n",
        "df = pd.read_csv('/content/drug200.csv')\n",
        "\n",
        "# Conversion of non numerical data in the dataframe to numerical data\n",
        "\n",
        "df.Sex = df.Sex.apply(lambda p: 0 if p == 'M' else 1)\n",
        "df.BP = df.BP.apply(lambda p: 0 if p == 'NORMAL' else (-1 if p == 'LOW' else 1))\n",
        "df.Cholesterol = df.Cholesterol.apply(lambda p: 0 if p == 'NORMAL' else 1)\n",
        "\n",
        "def convertor(row,values):\n",
        "  i = 0\n",
        "  while row != values[i]:\n",
        "    i += 1\n",
        "  return i\n",
        "\n",
        "drug_values = df.Drug.unique()\n",
        "df.Drug = df.Drug.apply(lambda x: convertor(x,drug_values))\n",
        "\n",
        "# Preparation of the training and testing set\n",
        "\n",
        "train_and_cv, test = train_test_split(df, train_size=0.8, random_state=42)\n",
        "train, cv = train_test_split(train_and_cv, train_size = 0.75)\n",
        "\n",
        "X_train = train.iloc[:,:-1]\n",
        "y_train = train.iloc[:,-1].tolist()\n",
        "\n",
        "X_cv = cv.iloc[:,:-1]\n",
        "y_cv = cv.iloc[:,-1].tolist()\n",
        "\n",
        "X_test = test.iloc[:,:-1]\n",
        "y_test = test.iloc[:,-1].tolist()"
      ]
    },
    {
      "cell_type": "code",
      "source": [
        "# Training of the model and prediction\n",
        "\n",
        "model = LogisticRegression(multi_class='multinomial', max_iter = 5000)\n",
        "\n",
        "model.fit(X_train,y_train)\n",
        "\n",
        "y_hat = model.predict(X_cv)\n",
        "\n",
        "# Performance of the model\n",
        "\n",
        "accuracy = accuracy_score(y_true = y_cv, y_pred=y_hat)\n",
        "\n",
        "cm = confusion_matrix(y_true = y_cv, y_pred = y_hat)\n",
        "\n",
        "print(\"Accuracy score:\",accuracy)\n",
        "print(\"Confusion matrix:\\n\",cm)\n",
        "print(\"Drugs:\",drug_values)"
      ],
      "metadata": {
        "colab": {
          "base_uri": "https://localhost:8080/"
        },
        "id": "cya_wQ4nEXY5",
        "outputId": "ef06b413-89c6-4f47-e54e-abb64230c0b9"
      },
      "execution_count": 80,
      "outputs": [
        {
          "output_type": "stream",
          "name": "stderr",
          "text": [
            "/usr/local/lib/python3.12/dist-packages/sklearn/linear_model/_logistic.py:1247: FutureWarning: 'multi_class' was deprecated in version 1.5 and will be removed in 1.7. From then on, it will always use 'multinomial'. Leave it to its default value to avoid this warning.\n",
            "  warnings.warn(\n"
          ]
        },
        {
          "output_type": "stream",
          "name": "stdout",
          "text": [
            "Accuracy score: 0.975\n",
            "Confusion matrix:\n",
            " [[23  0  0  0  0]\n",
            " [ 0  0  1  0  0]\n",
            " [ 0  0  9  0  0]\n",
            " [ 0  0  0  3  0]\n",
            " [ 0  0  0  0  4]]\n",
            "Drugs: ['DrugY' 'drugC' 'drugX' 'drugA' 'drugB']\n"
          ]
        }
      ]
    },
    {
      "cell_type": "code",
      "source": [
        "accuracy_per_deg = {1: accuracy}\n",
        "cm_per_deg = {1: cm}"
      ],
      "metadata": {
        "id": "0cfMJuSDGUnJ"
      },
      "execution_count": 81,
      "outputs": []
    },
    {
      "cell_type": "code",
      "source": [
        "# Enhancement of the dataset with polynomial features\n",
        "\n",
        "for deg in range(2,6):\n",
        "\n",
        "    X_train_deg = X_train.copy()\n",
        "    X_cv_deg    = X_cv.copy()\n",
        "    X_test_deg  = X_test.copy()\n",
        "\n",
        "    for i_BP in [0,1,2]:\n",
        "        for i_Age in range(deg-i_BP+1):\n",
        "            for i_Na_to_K in range(deg-(i_BP+i_Age)+1):\n",
        "                col_name = f\"deg{deg}_BP{i_BP}_Age{i_Age}_NaK{i_Na_to_K}\"\n",
        "                X_train_deg[col_name] = (X_train['BP']**i_BP)*(X_train['Age']**i_Age)*(X_train['Na_to_K']**i_Na_to_K)\n",
        "                X_cv_deg[col_name]    = (X_cv['BP']**i_BP)*(X_cv['Age']**i_Age)*(X_cv['Na_to_K']**i_Na_to_K)\n",
        "\n",
        "    model = LogisticRegression(max_iter=1000)\n",
        "    model.fit(X_train_deg, y_train)\n",
        "    y_hat = model.predict(X_cv_deg)\n",
        "\n",
        "    accuracy = accuracy_score(y_cv, y_hat)\n",
        "    cm = confusion_matrix(y_cv, y_hat)\n",
        "\n",
        "    accuracy_per_deg[deg] = accuracy\n",
        "    cm_per_deg[deg] = cm\n",
        "\n",
        "print(\"Accuracies:\", accuracy_per_deg)\n",
        "print(\"Confusion matrices:\", cm_per_deg)\n"
      ],
      "metadata": {
        "colab": {
          "base_uri": "https://localhost:8080/"
        },
        "id": "j0csfzJbEhZh",
        "outputId": "0801001e-c537-438e-bdfe-ed78503d1ad2"
      },
      "execution_count": 82,
      "outputs": [
        {
          "output_type": "stream",
          "name": "stderr",
          "text": [
            "/usr/local/lib/python3.12/dist-packages/sklearn/linear_model/_logistic.py:465: ConvergenceWarning: lbfgs failed to converge (status=1):\n",
            "STOP: TOTAL NO. OF ITERATIONS REACHED LIMIT.\n",
            "\n",
            "Increase the number of iterations (max_iter) or scale the data as shown in:\n",
            "    https://scikit-learn.org/stable/modules/preprocessing.html\n",
            "Please also refer to the documentation for alternative solver options:\n",
            "    https://scikit-learn.org/stable/modules/linear_model.html#logistic-regression\n",
            "  n_iter_i = _check_optimize_result(\n",
            "/usr/local/lib/python3.12/dist-packages/sklearn/linear_model/_logistic.py:465: ConvergenceWarning: lbfgs failed to converge (status=1):\n",
            "STOP: TOTAL NO. OF ITERATIONS REACHED LIMIT.\n",
            "\n",
            "Increase the number of iterations (max_iter) or scale the data as shown in:\n",
            "    https://scikit-learn.org/stable/modules/preprocessing.html\n",
            "Please also refer to the documentation for alternative solver options:\n",
            "    https://scikit-learn.org/stable/modules/linear_model.html#logistic-regression\n",
            "  n_iter_i = _check_optimize_result(\n",
            "/usr/local/lib/python3.12/dist-packages/sklearn/linear_model/_logistic.py:465: ConvergenceWarning: lbfgs failed to converge (status=1):\n",
            "STOP: TOTAL NO. OF ITERATIONS REACHED LIMIT.\n",
            "\n",
            "Increase the number of iterations (max_iter) or scale the data as shown in:\n",
            "    https://scikit-learn.org/stable/modules/preprocessing.html\n",
            "Please also refer to the documentation for alternative solver options:\n",
            "    https://scikit-learn.org/stable/modules/linear_model.html#logistic-regression\n",
            "  n_iter_i = _check_optimize_result(\n"
          ]
        },
        {
          "output_type": "stream",
          "name": "stdout",
          "text": [
            "Accuracies: {1: 0.975, 2: 1.0, 3: 0.95, 4: 0.85, 5: 0.9}\n",
            "Confusion matrices: {1: array([[23,  0,  0,  0,  0],\n",
            "       [ 0,  0,  1,  0,  0],\n",
            "       [ 0,  0,  9,  0,  0],\n",
            "       [ 0,  0,  0,  3,  0],\n",
            "       [ 0,  0,  0,  0,  4]]), 2: array([[23,  0,  0,  0,  0],\n",
            "       [ 0,  1,  0,  0,  0],\n",
            "       [ 0,  0,  9,  0,  0],\n",
            "       [ 0,  0,  0,  3,  0],\n",
            "       [ 0,  0,  0,  0,  4]]), 3: array([[23,  0,  0,  0,  0],\n",
            "       [ 0,  1,  0,  0,  0],\n",
            "       [ 0,  1,  8,  0,  0],\n",
            "       [ 0,  0,  0,  3,  0],\n",
            "       [ 0,  0,  1,  0,  3]]), 4: array([[19,  0,  1,  3,  0],\n",
            "       [ 0,  1,  0,  0,  0],\n",
            "       [ 0,  1,  8,  0,  0],\n",
            "       [ 0,  0,  0,  3,  0],\n",
            "       [ 1,  0,  0,  0,  3]]), 5: array([[23,  0,  0,  0,  0],\n",
            "       [ 0,  1,  0,  0,  0],\n",
            "       [ 0,  3,  6,  0,  0],\n",
            "       [ 0,  0,  0,  3,  0],\n",
            "       [ 1,  0,  0,  0,  3]])}\n"
          ]
        },
        {
          "output_type": "stream",
          "name": "stderr",
          "text": [
            "/usr/local/lib/python3.12/dist-packages/sklearn/linear_model/_logistic.py:465: ConvergenceWarning: lbfgs failed to converge (status=1):\n",
            "STOP: TOTAL NO. OF ITERATIONS REACHED LIMIT.\n",
            "\n",
            "Increase the number of iterations (max_iter) or scale the data as shown in:\n",
            "    https://scikit-learn.org/stable/modules/preprocessing.html\n",
            "Please also refer to the documentation for alternative solver options:\n",
            "    https://scikit-learn.org/stable/modules/linear_model.html#logistic-regression\n",
            "  n_iter_i = _check_optimize_result(\n"
          ]
        }
      ]
    },
    {
      "cell_type": "code",
      "source": [
        "# Selection of the model with highest accuracy score on the cross validation dataset\n",
        "\n",
        "best_deg = max(accuracy_per_deg, key=accuracy_per_deg.get)\n",
        "\n",
        "print('The best degree for the polynomial features is', best_deg)\n",
        "\n",
        "X_train_deg = X_train.copy()\n",
        "X_test_deg  = X_test.copy()\n",
        "\n",
        "for i_BP in range(best_deg):\n",
        "    for i_Age in range(best_deg-i_BP+1):\n",
        "        for i_Na_to_K in range(best_deg-(i_BP+i_Age)+1):\n",
        "            col_name = f\"deg{deg}_BP{i_BP}_Age{i_Age}_NaK{i_Na_to_K}\"\n",
        "            X_train_deg[col_name] = (X_train['BP']**i_BP)*(X_train['Age']**i_Age)*(X_train['Na_to_K']**i_Na_to_K)\n",
        "            X_test_deg[col_name]  = (X_test['BP']**i_BP)*(X_test['Age']**i_Age)*(X_test['Na_to_K']**i_Na_to_K)\n",
        "\n",
        "model = LogisticRegression(max_iter=1000)\n",
        "model.fit(X_train_deg, y_train)\n",
        "\n",
        "# Testing\n",
        "\n",
        "y_hat = model.predict(X_test_deg)\n",
        "\n",
        "accuracy = accuracy_score(y_test, y_hat)\n",
        "cm = confusion_matrix(y_test, y_hat)\n",
        "\n",
        "print('Accuracy score on the test:', accuracy)\n",
        "print('Confusion matrix on the test:\\n', cm)"
      ],
      "metadata": {
        "colab": {
          "base_uri": "https://localhost:8080/"
        },
        "id": "18HjyCjJP_AO",
        "outputId": "e7b89c2c-5872-4f40-b122-6ae7553eede2"
      },
      "execution_count": 83,
      "outputs": [
        {
          "output_type": "stream",
          "name": "stdout",
          "text": [
            "The best degree for the polynomial features is 2\n",
            "Accuracy score on the test: 0.9\n",
            "Confusion matrix on the test:\n",
            " [[15  0  0  0  0]\n",
            " [ 0  5  0  0  0]\n",
            " [ 0  3  8  0  0]\n",
            " [ 0  0  1  5  0]\n",
            " [ 0  0  0  0  3]]\n"
          ]
        },
        {
          "output_type": "stream",
          "name": "stderr",
          "text": [
            "/usr/local/lib/python3.12/dist-packages/sklearn/linear_model/_logistic.py:465: ConvergenceWarning: lbfgs failed to converge (status=1):\n",
            "STOP: TOTAL NO. OF ITERATIONS REACHED LIMIT.\n",
            "\n",
            "Increase the number of iterations (max_iter) or scale the data as shown in:\n",
            "    https://scikit-learn.org/stable/modules/preprocessing.html\n",
            "Please also refer to the documentation for alternative solver options:\n",
            "    https://scikit-learn.org/stable/modules/linear_model.html#logistic-regression\n",
            "  n_iter_i = _check_optimize_result(\n"
          ]
        }
      ]
    }
  ],
  "metadata": {
    "colab": {
      "provenance": [],
      "authorship_tag": "ABX9TyO4zQaQLQYgqR4wyKpPcw9M",
      "include_colab_link": true
    },
    "kernelspec": {
      "display_name": "Python 3",
      "name": "python3"
    },
    "language_info": {
      "name": "python"
    }
  },
  "nbformat": 4,
  "nbformat_minor": 0
}