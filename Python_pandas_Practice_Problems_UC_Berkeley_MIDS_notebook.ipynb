{
  "nbformat": 4,
  "nbformat_minor": 0,
  "metadata": {
    "colab": {
      "provenance": [],
      "include_colab_link": true
    },
    "kernelspec": {
      "name": "python3",
      "display_name": "Python 3"
    },
    "language_info": {
      "name": "python"
    }
  },
  "cells": [
    {
      "cell_type": "markdown",
      "metadata": {
        "id": "view-in-github",
        "colab_type": "text"
      },
      "source": [
        "<a href=\"https://colab.research.google.com/github/francesca-leonardi/Learning-Machine-Learning/blob/main/Python_pandas_Practice_Problems_UC_Berkeley_MIDS_notebook.ipynb\" target=\"_parent\"><img src=\"https://colab.research.google.com/assets/colab-badge.svg\" alt=\"Open In Colab\"/></a>"
      ]
    },
    {
      "cell_type": "markdown",
      "source": [
        "# Python pandas Practice Problems\n",
        "\n",
        "Welcome to datascience@berkeley's collection of Python pandas practice problems.\n",
        "\n",
        "To use this notebook, go to `File` --> `Save a copy in Drive` in the menu bar above to create a copy of this notebook on your computer. A new tab will open with the copy and you will be the owner. Your version will not be visible to anyone else.\n",
        "\n",
        "A few notes to get you started:\n",
        "\n",
        "* The space provided for code is not a line limit or hint. Add and use as many lines of code or additional cells as necessary.\n",
        "* Lines preceded with '#' are comments and provide additional explanation but will not affect written code or execution.\n",
        "* Solutions can be found in the complementary [Python pandas Practice Problems for Beginners - Solutions notebook](https://colab.research.google.com/drive/1f8PTrhgJR093fBth5Ka23KCWTIGbgPds?usp=sharing).\n",
        "* Additional resources for the concepts used in each problem can be found at [the blog post here](https://ischoolonline.berkeley.edu/blog/python-pandas-practice-problems/).\n",
        "\n",
        "\\"
      ],
      "metadata": {
        "id": "Q_rqa1jwKd5v"
      }
    },
    {
      "cell_type": "code",
      "execution_count": 1,
      "metadata": {
        "id": "_DgRNdroKTwF"
      },
      "outputs": [],
      "source": [
        "# Import statements go here\n",
        "\n",
        "import pandas as pd\n",
        "import statsmodels.api as sm"
      ]
    },
    {
      "cell_type": "markdown",
      "source": [
        "## Importing Data and Making a DataFrame\n",
        "The statsmodels package (installed in the code cell above) includes built-in datasets. Execute the code below to download data from the [American National Election Studies of 1996](https://www.statsmodels.org/dev/datasets/generated/anes96.html) and print a detailed description of the schema.\n",
        "\n",
        "The next cell extracts the `Dataset` object from the submodule and saves the `DataFrame` to the variable `df`. In the questions that follow, use `df` when referencing the dataset."
      ],
      "metadata": {
        "id": "525Moc9hEfFr"
      }
    },
    {
      "cell_type": "code",
      "source": [
        "anes96 = sm.datasets.anes96\n",
        "print(anes96.NOTE)"
      ],
      "metadata": {
        "colab": {
          "base_uri": "https://localhost:8080/"
        },
        "id": "d-bGIc2VNqvW",
        "outputId": "caebdad9-1854-43ac-9bca-05fada842b18"
      },
      "execution_count": 2,
      "outputs": [
        {
          "output_type": "stream",
          "name": "stdout",
          "text": [
            "::\n",
            "\n",
            "    Number of observations - 944\n",
            "    Number of variables - 10\n",
            "\n",
            "    Variables name definitions::\n",
            "\n",
            "            popul - Census place population in 1000s\n",
            "            TVnews - Number of times per week that respondent watches TV news.\n",
            "            PID - Party identification of respondent.\n",
            "                0 - Strong Democrat\n",
            "                1 - Weak Democrat\n",
            "                2 - Independent-Democrat\n",
            "                3 - Independent-Indpendent\n",
            "                4 - Independent-Republican\n",
            "                5 - Weak Republican\n",
            "                6 - Strong Republican\n",
            "            age : Age of respondent.\n",
            "            educ - Education level of respondent\n",
            "                1 - 1-8 grades\n",
            "                2 - Some high school\n",
            "                3 - High school graduate\n",
            "                4 - Some college\n",
            "                5 - College degree\n",
            "                6 - Master's degree\n",
            "                7 - PhD\n",
            "            income - Income of household\n",
            "                1  - None or less than $2,999\n",
            "                2  - $3,000-$4,999\n",
            "                3  - $5,000-$6,999\n",
            "                4  - $7,000-$8,999\n",
            "                5  - $9,000-$9,999\n",
            "                6  - $10,000-$10,999\n",
            "                7  - $11,000-$11,999\n",
            "                8  - $12,000-$12,999\n",
            "                9  - $13,000-$13,999\n",
            "                10 - $14,000-$14.999\n",
            "                11 - $15,000-$16,999\n",
            "                12 - $17,000-$19,999\n",
            "                13 - $20,000-$21,999\n",
            "                14 - $22,000-$24,999\n",
            "                15 - $25,000-$29,999\n",
            "                16 - $30,000-$34,999\n",
            "                17 - $35,000-$39,999\n",
            "                18 - $40,000-$44,999\n",
            "                19 - $45,000-$49,999\n",
            "                20 - $50,000-$59,999\n",
            "                21 - $60,000-$74,999\n",
            "                22 - $75,000-89,999\n",
            "                23 - $90,000-$104,999\n",
            "                24 - $105,000 and over\n",
            "            vote - Expected vote\n",
            "                0 - Clinton\n",
            "                1 - Dole\n",
            "            The following 3 variables all take the values:\n",
            "                1 - Extremely liberal\n",
            "                2 - Liberal\n",
            "                3 - Slightly liberal\n",
            "                4 - Moderate\n",
            "                5 - Slightly conservative\n",
            "                6 - Conservative\n",
            "                7 - Extremely Conservative\n",
            "            selfLR - Respondent's self-reported political leanings from \"Left\"\n",
            "                to \"Right\".\n",
            "            ClinLR - Respondents impression of Bill Clinton's political\n",
            "                leanings from \"Left\" to \"Right\".\n",
            "            DoleLR  - Respondents impression of Bob Dole's political leanings\n",
            "                from \"Left\" to \"Right\".\n",
            "            logpopul - log(popul + .1)\n",
            "\n"
          ]
        }
      ]
    },
    {
      "cell_type": "code",
      "source": [
        "dataset_anes96 = anes96.load_pandas()\n",
        "df = dataset_anes96.data"
      ],
      "metadata": {
        "id": "0aVym7SVK-IU"
      },
      "execution_count": 4,
      "outputs": []
    },
    {
      "cell_type": "markdown",
      "source": [
        "## 1. DataFrame Basic Properties Exercise\n",
        "\n",
        "Our DataFrame (`df`) contains data on registered voters in the United States, including demographic information and political preference. Using `pandas`, print the first 5 rows of the DataFrame to get a sense of what the data looks like. Next, answer the following questions:\n",
        "\n",
        "\n",
        "*   How many observations are in the DataFrame?\n",
        "*   How many variables are measured (how many columns)?\n",
        "*   What is the age of the youngest person in the data? The oldest?\n",
        "*   How many days a week does the average respondent watch TV news (round to the nearest tenth)?\n",
        "*   Check for missing values. Are there any?\n",
        "\n",
        "\n",
        "\n",
        "\n"
      ],
      "metadata": {
        "id": "kBHruDwCK1mH"
      }
    },
    {
      "cell_type": "code",
      "source": [
        "# Your code here\n",
        "\n",
        "null_df_values = df.isnull().sum()\n",
        "print(null_df_values)\n"
      ],
      "metadata": {
        "id": "kh7hT9QyEsxl",
        "colab": {
          "base_uri": "https://localhost:8080/"
        },
        "outputId": "6211226b-0df7-47e1-de74-3a0ab2ce677d"
      },
      "execution_count": 27,
      "outputs": [
        {
          "output_type": "stream",
          "name": "stdout",
          "text": [
            "popul       0\n",
            "TVnews      0\n",
            "selfLR      0\n",
            "ClinLR      0\n",
            "DoleLR      0\n",
            "PID         0\n",
            "age         0\n",
            "educ        0\n",
            "income      0\n",
            "vote        0\n",
            "logpopul    0\n",
            "dtype: int64\n"
          ]
        }
      ]
    },
    {
      "cell_type": "markdown",
      "source": [
        "## 2. Data Processing Exercise\n",
        "\n",
        "We want to adjust the dataset for our use. Do the following:\n",
        "\n",
        "\n",
        "*   Rename the `educ` column `education`.\n",
        "*   Create a new column called `party` based on each respondent's answer to `PID`. `party` should equal `Democrat` if the respondent selected either Strong Democrat or Weak Democrat. `party` will equal `Republican` if the respondent selected Strong or Weak Republican for `PID` and `Independent` if they selected anything else.\n",
        "*   Create a new column called `age_group` that buckets respondents into the following categories based on their `age`: 18-24, 25-34, 35-44, 45-54, 55-64, and 65 and over.\n",
        "\n"
      ],
      "metadata": {
        "id": "RMerTMKXLA9f"
      }
    },
    {
      "cell_type": "code",
      "source": [
        "# Your code here\n",
        "df.rename(columns = {'educ': 'education'})\n",
        "\n",
        "def party_funct(row):\n",
        "  if row < 2:\n",
        "    return 'Democrat'\n",
        "  elif row > 4:\n",
        "    return 'Republican'\n",
        "  else:\n",
        "    return 'Independent'\n",
        "\n",
        "df['party'] = df['PID'].apply(party_funct)\n",
        "\n",
        "def age_group(age):\n",
        "  if age >= 18 and age <= 24:\n",
        "    return '18-24'\n",
        "  if age >= 25 and age <= 34:\n",
        "    return '25-34'\n",
        "  if age >= 35 and age <= 44:\n",
        "    return '35-44'\n",
        "  if age >= 45 and age <= 54:\n",
        "    return '45-54'\n",
        "  if age >= 55 and age <= 64:\n",
        "    return '55-64'\n",
        "  if age >= 65:\n",
        "    return '65 and over'\n",
        "\n",
        "df['age_group'] = df['age'].apply(age_group)\n",
        "\n",
        "print(df)"
      ],
      "metadata": {
        "id": "QaxRXEVULDGn",
        "colab": {
          "base_uri": "https://localhost:8080/"
        },
        "outputId": "1549e8c7-8c36-4aa9-8f2a-beb69bd7b773"
      },
      "execution_count": 49,
      "outputs": [
        {
          "output_type": "stream",
          "name": "stdout",
          "text": [
            "     popul  TVnews  selfLR  ClinLR  DoleLR  PID   age  educ  income  vote  \\\n",
            "0      0.0     7.0     7.0     1.0     6.0  6.0  36.0   3.0     1.0   1.0   \n",
            "1    190.0     1.0     3.0     3.0     5.0  1.0  20.0   4.0     1.0   0.0   \n",
            "2     31.0     7.0     2.0     2.0     6.0  1.0  24.0   6.0     1.0   0.0   \n",
            "3     83.0     4.0     3.0     4.0     5.0  1.0  28.0   6.0     1.0   0.0   \n",
            "4    640.0     7.0     5.0     6.0     4.0  0.0  68.0   6.0     1.0   0.0   \n",
            "..     ...     ...     ...     ...     ...  ...   ...   ...     ...   ...   \n",
            "939    0.0     7.0     7.0     1.0     6.0  4.0  73.0   6.0    24.0   1.0   \n",
            "940    0.0     7.0     5.0     2.0     6.0  6.0  50.0   6.0    24.0   1.0   \n",
            "941    0.0     3.0     6.0     2.0     7.0  5.0  43.0   6.0    24.0   1.0   \n",
            "942    0.0     6.0     6.0     2.0     5.0  6.0  46.0   7.0    24.0   1.0   \n",
            "943   18.0     7.0     4.0     2.0     6.0  3.0  61.0   7.0    24.0   1.0   \n",
            "\n",
            "     logpopul        party    age_group  \n",
            "0   -2.302585   Republican        35-44  \n",
            "1    5.247550     Democrat        18-24  \n",
            "2    3.437208     Democrat        18-24  \n",
            "3    4.420045     Democrat        25-34  \n",
            "4    6.461624     Democrat  65 and over  \n",
            "..        ...          ...          ...  \n",
            "939 -2.302585  Independent  65 and over  \n",
            "940 -2.302585   Republican        45-54  \n",
            "941 -2.302585   Republican        35-44  \n",
            "942 -2.302585   Republican        45-54  \n",
            "943  2.895912  Independent        55-64  \n",
            "\n",
            "[944 rows x 13 columns]\n"
          ]
        }
      ]
    },
    {
      "cell_type": "markdown",
      "source": [
        "## 3. Filtering Data Exercise\n",
        "\n",
        "Use the filtering method to find all the respondents who have the impression that Bill Clinton is moderate or conservative (`ClinLR` equals 4 or higher). How many respondents are in this subset?\n",
        "\n",
        "Among these respondents, how many have a household income less than $50,000 and attended at least some college?"
      ],
      "metadata": {
        "id": "FaisnScALWND"
      }
    },
    {
      "cell_type": "code",
      "source": [
        "# Your code here\n",
        "\n",
        "print(len(df[(df['ClinLR'] >= 4) & (df['income'] < 20)]))"
      ],
      "metadata": {
        "id": "eX5t91r1BJ3k",
        "colab": {
          "base_uri": "https://localhost:8080/"
        },
        "outputId": "38e118c1-2c8a-42ac-fd5e-aeab6090dc9b"
      },
      "execution_count": 52,
      "outputs": [
        {
          "output_type": "stream",
          "name": "stdout",
          "text": [
            "207\n"
          ]
        }
      ]
    },
    {
      "cell_type": "markdown",
      "source": [
        "## 4. Calculating From Data Exercise\n",
        "\n",
        "For each of the below match-ups, choose the group that is more likely to vote for Bill Clinton. You can calculate this using the percentage of each group that intends to vote for Clinton (`vote`). Which match-up was the closest? Which had the biggest difference?\n",
        "\n",
        "Another way to think about this: Given that a respondent is a Democrat, there is a ____ percent chance they will vote for Clinton. How does this value change if the respondent is a Republican?\n",
        "\n",
        "*   Democrats or Republicans\n",
        "*   People younger than 44 or People 44 and older\n",
        "*   People who watch TV news at least 6 days a week or People who watch TV news less than 3 days a week\n",
        "*   People who live somewhere with a population greater than the average respondent or People who live in a place with a population equal to or less than the average respondent\n"
      ],
      "metadata": {
        "id": "g5GzVjqdLe82"
      }
    },
    {
      "cell_type": "code",
      "source": [
        "# Your code here\n",
        "\n",
        "average_population = df.popul.mean()\n",
        "\n",
        "ratio = (float(len(df[(df['popul'] < average_population) & (df['vote'] == 0)])) / float(len(df[df['popul'] < average_population])))*100\n",
        "\n",
        "print(\"Given that a respondent lives somewhere with a population smaller than the average, there is a\",ratio,\"percent chance they will vote for Clinton.\")"
      ],
      "metadata": {
        "id": "68hj5Vs6Lhz5",
        "colab": {
          "base_uri": "https://localhost:8080/"
        },
        "outputId": "4854ff1b-61b9-4aa6-a79d-c4efcb28313f"
      },
      "execution_count": 70,
      "outputs": [
        {
          "output_type": "stream",
          "name": "stdout",
          "text": [
            "Given that a respondent lives somewhere with a population smaller than the average, there is a 55.91531755915318 percent chance they will vote for Clinton.\n"
          ]
        }
      ]
    },
    {
      "cell_type": "markdown",
      "source": [
        "## 5. Grouping Data Exercise\n",
        "\n",
        "Use the `groupby()` method to bucket respondents by `age_group`. Which age group is the most conservative? Which watches TV news the least?\n",
        "\n",
        "Next, calculate 5 percentile groups based on income. Group the dataset by these percentiles. Which income bracket is the most liberal? Which is the most conservative? The oldest? Highest educated?"
      ],
      "metadata": {
        "id": "Q68i6UUQLZrT"
      }
    },
    {
      "cell_type": "code",
      "source": [
        "# Your code here\n",
        "df.sort_values(\"age\", inplace = True)\n",
        "df_by_age_group = df.groupby(\"age_group\")\n",
        "df_by_age_group.head(2)\n",
        "\n",
        "groups = df.age_group.unique()\n",
        "\n",
        "ratios = []\n",
        "\n",
        "for g in groups:\n",
        "  ratios.append(float(len(df[(df['selfLR'] > 4) & (df['age_group'] == g)])) / float(len(df[(df['age_group'] == g)])))\n",
        "\n",
        "ratios_conservatives = pd.Series(ratios, index = groups)\n",
        "most_cons_group = ratios_conservatives.idxmax()\n",
        "\n",
        "print(ratios_conservatives, most_cons_group)\n",
        "\n",
        "df['income_quintile'] = pd.qcut(df['income'], 5)\n",
        "educ_means_by_income = df.groupby('income_quintile').educ.mean()\n",
        "print(educ_means_by_income.idxmax())\n",
        "\n",
        "\n"
      ],
      "metadata": {
        "id": "eNrBrx6-LcBn",
        "colab": {
          "base_uri": "https://localhost:8080/"
        },
        "outputId": "f8c567b9-6297-44c9-d66b-4683a91bd634"
      },
      "execution_count": 144,
      "outputs": [
        {
          "output_type": "stream",
          "name": "stdout",
          "text": [
            "18-24          0.283019\n",
            "25-34          0.407609\n",
            "35-44          0.432653\n",
            "45-54          0.446429\n",
            "55-64          0.532258\n",
            "65 and over    0.500000\n",
            "dtype: float64 55-64\n",
            "(21.0, 24.0]\n"
          ]
        },
        {
          "output_type": "stream",
          "name": "stderr",
          "text": [
            "/tmp/ipython-input-4055862787.py:19: FutureWarning: The default of observed=False is deprecated and will be changed to True in a future version of pandas. Pass observed=False to retain current behavior or observed=True to adopt the future default and silence this warning.\n",
            "  educ_means_by_income = df.groupby('income_quintile').educ.mean()\n"
          ]
        }
      ]
    },
    {
      "cell_type": "markdown",
      "source": [
        "## 6. Voting Across the Aisle\n",
        "\n",
        "We are interested in learning more about respondents who's political views differ strongly from the candidate they expect to vote for. Using `selfLR`, `vote`, `ClinLR`, and `DoleLR`, work through the following questions. Your interpretation may differ from the answer key.\n",
        "\n",
        "*   What is the largest recorded difference between a respondent's political leaning and their impression of their intended candidate's political leaning?\n",
        "*   How many respondents exhibit a difference of that magnitude?\n",
        "*   Make a separate DataFrame called `sway` that only includes voters who exhibit a difference greater than |3|.\n",
        "*   Among those in `sway`, are respondents more likely to be voting for a candidate more conservative or more liberal than their own political leaning?\n",
        "*   In `sway`, which candidate is the more popular choice?\n",
        "\n"
      ],
      "metadata": {
        "id": "_ySpfyk-LSUS"
      }
    },
    {
      "cell_type": "code",
      "source": [
        "# Your code here"
      ],
      "metadata": {
        "id": "pIFQCKBcLX9z"
      },
      "execution_count": null,
      "outputs": []
    },
    {
      "cell_type": "markdown",
      "source": [
        "# BSD 3-Clause License\n",
        "\n",
        "*Copyright (c) 2022, UC Berkeley School of Information*\n",
        "\n",
        "*All rights reserved.*\n",
        "\n",
        "*Redistribution and use in source and binary forms, with or without modification, are permitted provided that the following conditions are met:*\n",
        "\n",
        "*1. Redistributions of source code must retain the above copyright notice, this list of conditions and the following disclaimer.*\n",
        "\n",
        "*2. Redistributions in binary form must reproduce the above copyright notice, this list of conditions and the following disclaimer in the documentation and/or other materials provided with the distribution.*\n",
        "\n",
        "*3. Neither the name of the copyright holder nor the names of its contributors may be used to endorse or promote products derived from this software without specific prior written permission.*\n",
        "\n",
        "*THIS SOFTWARE IS PROVIDED BY THE COPYRIGHT HOLDERS AND CONTRIBUTORS \"AS IS\" AND ANY EXPRESS OR IMPLIED WARRANTIES, INCLUDING, BUT NOT LIMITED TO, THE IMPLIED WARRANTIES OF MERCHANTABILITY AND FITNESS FOR A PARTICULAR PURPOSE ARE DISCLAIMED. IN NO EVENT SHALL THE COPYRIGHT HOLDER OR CONTRIBUTORS BE LIABLE FOR ANY DIRECT, INDIRECT, INCIDENTAL, SPECIAL, EXEMPLARY, OR CONSEQUENTIAL DAMAGES (INCLUDING, BUT NOT LIMITED TO, PROCUREMENT OF SUBSTITUTE GOODS OR SERVICES; LOSS OF USE, DATA, OR PROFITS; OR BUSINESS INTERRUPTION) HOWEVER CAUSED AND ON ANY THEORY OF LIABILITY, WHETHER IN CONTRACT, STRICT LIABILITY, OR TORT (INCLUDING NEGLIGENCE OR OTHERWISE) ARISING IN ANY WAY OUT OF THE USE OF THIS SOFTWARE, EVEN IF ADVISED OF THE POSSIBILITY OF SUCH DAMAGE.*"
      ],
      "metadata": {
        "id": "HRJKA3UDLr-z"
      }
    }
  ]
}